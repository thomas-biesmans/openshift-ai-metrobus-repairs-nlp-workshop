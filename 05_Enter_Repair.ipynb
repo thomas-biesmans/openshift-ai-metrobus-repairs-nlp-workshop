{
 "cells": [
  {
   "cell_type": "code",
   "execution_count": 1,
   "id": "9c427989-2091-4916-a388-d1015ded029a",
   "metadata": {
    "tags": []
   },
   "outputs": [],
   "source": [
    "my_text = 'car will not start'            #e.g. 'the brakes squeal when the car begins to stop'\n",
    "#my_route = 'your_service (http://...)'   #this is the route that was created in your OpenShift dedicated project\n",
    "my_route = 'https://metrobus-repairs-nlp-workshop-git-thomas-biesmans-dev.apps.sandbox-m4.g2pi.p1.openshiftapps.com'"
   ]
  },
  {
   "cell_type": "code",
   "execution_count": 14,
   "id": "462aae17-f230-4b94-bc50-dbd3683896f1",
   "metadata": {
    "tags": []
   },
   "outputs": [
    {
     "name": "stdout",
     "output_type": "stream",
     "text": [
      "b'{\"prediction\":\"starter\"}\\n'\n"
     ]
    }
   ],
   "source": [
    "import requests\n",
    "import json\n",
    "from json import dumps\n",
    "\n",
    "content = {\"text\": my_text}\n",
    "json_data = dumps(content)\n",
    "\n",
    "headers = {\"Content-Type\" : \"application/json\"}\n",
    "\n",
    "r = requests.post(my_route + '/prediction', data=json_data, headers=headers)\n",
    "\n",
    "print(r.content)\n",
    "\n"
   ]
  },
  {
   "cell_type": "code",
   "execution_count": 30,
   "id": "219219fe-6ebf-466c-a8b0-bb693aacab25",
   "metadata": {
    "tags": []
   },
   "outputs": [
    {
     "name": "stdout",
     "output_type": "stream",
     "text": [
      "{\"prediction\":\"starter\"}\n",
      "\n"
     ]
    },
    {
     "name": "stderr",
     "output_type": "stream",
     "text": [
      "  % Total    % Received % Xferd  Average Speed   Time    Time     Time  Current\n",
      "                                 Dload  Upload   Total   Spent    Left  Speed\n",
      "100    71  100    25  100    46    297    547 --:--:-- --:--:-- --:--:--   845\n"
     ]
    }
   ],
   "source": [
    "my_other_text = 'I turn the key and nothing happens'\n",
    "import os\n",
    "result = os.popen(f\"\"\"curl -X POST -H \"Content-Type: application/json\" --data '{{\"data\": \"{my_other_text}\"}}' {my_route}/prediction\"\"\").read()\n",
    "print(result)"
   ]
  },
  {
   "cell_type": "code",
   "execution_count": null,
   "id": "1c3d0401-f91b-4765-8ec4-1e8e6440e20d",
   "metadata": {},
   "outputs": [],
   "source": []
  }
 ],
 "metadata": {
  "kernelspec": {
   "display_name": "Python 3.9",
   "language": "python",
   "name": "python3"
  },
  "language_info": {
   "codemirror_mode": {
    "name": "ipython",
    "version": 3
   },
   "file_extension": ".py",
   "mimetype": "text/x-python",
   "name": "python",
   "nbconvert_exporter": "python",
   "pygments_lexer": "ipython3",
   "version": "3.9.18"
  }
 },
 "nbformat": 4,
 "nbformat_minor": 5
}
