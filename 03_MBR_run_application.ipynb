{
 "cells": [
  {
   "cell_type": "markdown",
   "metadata": {},
   "source": [
    "## Flask\n",
    "Our API will be served directly from our container using Flask, a popular Python Web Server.\n",
    "The Flask application, which will call our prediction function, is defined in the `wsgi.py` file."
   ]
  },
  {
   "cell_type": "markdown",
   "metadata": {},
   "source": [
    "As always, we'll first run some imports to make sure all our requirements are there:"
   ]
  },
  {
   "cell_type": "code",
   "execution_count": 6,
   "metadata": {
    "ExecuteTime": {
     "end_time": "2021-04-13T19:39:12.918898Z",
     "start_time": "2021-04-13T19:38:57.226296Z"
    },
    "tags": []
   },
   "outputs": [
    {
     "name": "stdout",
     "output_type": "stream",
     "text": [
      "Requirement already satisfied: Flask==2.0.3 in /opt/app-root/lib/python3.9/site-packages (from -r requirements.txt (line 1)) (2.0.3)\n",
      "Requirement already satisfied: gunicorn==20.1.0 in /opt/app-root/lib/python3.9/site-packages (from -r requirements.txt (line 2)) (20.1.0)\n",
      "Requirement already satisfied: tensorflow==2.7.0 in /opt/app-root/lib/python3.9/site-packages (from -r requirements.txt (line 4)) (2.7.0)\n",
      "Requirement already satisfied: scikit-learn==0.24.1 in /opt/app-root/lib/python3.9/site-packages (from -r requirements.txt (line 5)) (0.24.1)\n",
      "Requirement already satisfied: numpy==1.26.4 in /opt/app-root/lib/python3.9/site-packages (from -r requirements.txt (line 6)) (1.26.4)\n",
      "Requirement already satisfied: pandas==1.2.4 in /opt/app-root/lib/python3.9/site-packages (from -r requirements.txt (line 7)) (1.2.4)\n",
      "Requirement already satisfied: protobuf==3.20.2 in /opt/app-root/lib/python3.9/site-packages (from -r requirements.txt (line 8)) (3.20.2)\n",
      "Collecting Werkzeug<3.0,>=2.2 (from -r requirements.txt (line 9))\n",
      "  Downloading werkzeug-2.3.8-py3-none-any.whl.metadata (4.1 kB)\n",
      "Requirement already satisfied: Jinja2>=3.0 in /opt/app-root/lib/python3.9/site-packages (from Flask==2.0.3->-r requirements.txt (line 1)) (3.1.3)\n",
      "Requirement already satisfied: itsdangerous>=2.0 in /opt/app-root/lib/python3.9/site-packages (from Flask==2.0.3->-r requirements.txt (line 1)) (2.2.0)\n",
      "Requirement already satisfied: click>=7.1.2 in /opt/app-root/lib/python3.9/site-packages (from Flask==2.0.3->-r requirements.txt (line 1)) (8.1.7)\n",
      "Requirement already satisfied: setuptools>=3.0 in /opt/app-root/lib/python3.9/site-packages (from gunicorn==20.1.0->-r requirements.txt (line 2)) (53.0.0)\n",
      "Requirement already satisfied: absl-py>=0.4.0 in /opt/app-root/lib/python3.9/site-packages (from tensorflow==2.7.0->-r requirements.txt (line 4)) (2.1.0)\n",
      "Requirement already satisfied: astunparse>=1.6.0 in /opt/app-root/lib/python3.9/site-packages (from tensorflow==2.7.0->-r requirements.txt (line 4)) (1.6.3)\n",
      "Requirement already satisfied: libclang>=9.0.1 in /opt/app-root/lib/python3.9/site-packages (from tensorflow==2.7.0->-r requirements.txt (line 4)) (18.1.1)\n",
      "Requirement already satisfied: flatbuffers<3.0,>=1.12 in /opt/app-root/lib/python3.9/site-packages (from tensorflow==2.7.0->-r requirements.txt (line 4)) (2.0.7)\n",
      "Requirement already satisfied: google-pasta>=0.1.1 in /opt/app-root/lib/python3.9/site-packages (from tensorflow==2.7.0->-r requirements.txt (line 4)) (0.2.0)\n",
      "Requirement already satisfied: h5py>=2.9.0 in /opt/app-root/lib/python3.9/site-packages (from tensorflow==2.7.0->-r requirements.txt (line 4)) (3.11.0)\n",
      "Requirement already satisfied: keras-preprocessing>=1.1.1 in /opt/app-root/lib/python3.9/site-packages (from tensorflow==2.7.0->-r requirements.txt (line 4)) (1.1.2)\n",
      "Requirement already satisfied: opt-einsum>=2.3.2 in /opt/app-root/lib/python3.9/site-packages (from tensorflow==2.7.0->-r requirements.txt (line 4)) (3.3.0)\n",
      "Requirement already satisfied: six>=1.12.0 in /opt/app-root/lib/python3.9/site-packages (from tensorflow==2.7.0->-r requirements.txt (line 4)) (1.16.0)\n",
      "Requirement already satisfied: termcolor>=1.1.0 in /opt/app-root/lib/python3.9/site-packages (from tensorflow==2.7.0->-r requirements.txt (line 4)) (2.3.0)\n",
      "Requirement already satisfied: typing-extensions>=3.6.6 in /opt/app-root/lib/python3.9/site-packages (from tensorflow==2.7.0->-r requirements.txt (line 4)) (4.11.0)\n",
      "Requirement already satisfied: wheel<1.0,>=0.32.0 in /opt/app-root/lib/python3.9/site-packages (from tensorflow==2.7.0->-r requirements.txt (line 4)) (0.43.0)\n",
      "Requirement already satisfied: wrapt>=1.11.0 in /opt/app-root/lib/python3.9/site-packages (from tensorflow==2.7.0->-r requirements.txt (line 4)) (1.14.1)\n",
      "Requirement already satisfied: gast<0.5.0,>=0.2.1 in /opt/app-root/lib/python3.9/site-packages (from tensorflow==2.7.0->-r requirements.txt (line 4)) (0.4.0)\n",
      "Requirement already satisfied: tensorboard~=2.6 in /opt/app-root/lib/python3.9/site-packages (from tensorflow==2.7.0->-r requirements.txt (line 4)) (2.15.2)\n",
      "Requirement already satisfied: tensorflow-estimator<2.8,~=2.7.0rc0 in /opt/app-root/lib/python3.9/site-packages (from tensorflow==2.7.0->-r requirements.txt (line 4)) (2.7.0)\n",
      "Requirement already satisfied: keras<2.8,>=2.7.0rc0 in /opt/app-root/lib/python3.9/site-packages (from tensorflow==2.7.0->-r requirements.txt (line 4)) (2.7.0)\n",
      "Requirement already satisfied: tensorflow-io-gcs-filesystem>=0.21.0 in /opt/app-root/lib/python3.9/site-packages (from tensorflow==2.7.0->-r requirements.txt (line 4)) (0.36.0)\n",
      "Requirement already satisfied: grpcio<2.0,>=1.24.3 in /opt/app-root/lib/python3.9/site-packages (from tensorflow==2.7.0->-r requirements.txt (line 4)) (1.62.2)\n",
      "Requirement already satisfied: scipy>=0.19.1 in /opt/app-root/lib/python3.9/site-packages (from scikit-learn==0.24.1->-r requirements.txt (line 5)) (1.13.0)\n",
      "Requirement already satisfied: joblib>=0.11 in /opt/app-root/lib/python3.9/site-packages (from scikit-learn==0.24.1->-r requirements.txt (line 5)) (1.4.0)\n",
      "Requirement already satisfied: threadpoolctl>=2.0.0 in /opt/app-root/lib/python3.9/site-packages (from scikit-learn==0.24.1->-r requirements.txt (line 5)) (3.4.0)\n",
      "Requirement already satisfied: python-dateutil>=2.7.3 in /opt/app-root/lib/python3.9/site-packages (from pandas==1.2.4->-r requirements.txt (line 7)) (2.9.0.post0)\n",
      "Requirement already satisfied: pytz>=2017.3 in /opt/app-root/lib/python3.9/site-packages (from pandas==1.2.4->-r requirements.txt (line 7)) (2024.1)\n",
      "Requirement already satisfied: MarkupSafe>=2.1.1 in /opt/app-root/lib/python3.9/site-packages (from Werkzeug<3.0,>=2.2->-r requirements.txt (line 9)) (2.1.5)\n",
      "Requirement already satisfied: google-auth<3,>=1.6.3 in /opt/app-root/lib/python3.9/site-packages (from tensorboard~=2.6->tensorflow==2.7.0->-r requirements.txt (line 4)) (2.29.0)\n",
      "Requirement already satisfied: google-auth-oauthlib<2,>=0.5 in /opt/app-root/lib/python3.9/site-packages (from tensorboard~=2.6->tensorflow==2.7.0->-r requirements.txt (line 4)) (1.2.0)\n",
      "Requirement already satisfied: markdown>=2.6.8 in /opt/app-root/lib/python3.9/site-packages (from tensorboard~=2.6->tensorflow==2.7.0->-r requirements.txt (line 4)) (3.6)\n",
      "Requirement already satisfied: requests<3,>=2.21.0 in /opt/app-root/lib/python3.9/site-packages (from tensorboard~=2.6->tensorflow==2.7.0->-r requirements.txt (line 4)) (2.31.0)\n",
      "Requirement already satisfied: tensorboard-data-server<0.8.0,>=0.7.0 in /opt/app-root/lib/python3.9/site-packages (from tensorboard~=2.6->tensorflow==2.7.0->-r requirements.txt (line 4)) (0.7.2)\n",
      "Requirement already satisfied: cachetools<6.0,>=2.0.0 in /opt/app-root/lib/python3.9/site-packages (from google-auth<3,>=1.6.3->tensorboard~=2.6->tensorflow==2.7.0->-r requirements.txt (line 4)) (5.3.3)\n",
      "Requirement already satisfied: pyasn1-modules>=0.2.1 in /opt/app-root/lib/python3.9/site-packages (from google-auth<3,>=1.6.3->tensorboard~=2.6->tensorflow==2.7.0->-r requirements.txt (line 4)) (0.4.0)\n",
      "Requirement already satisfied: rsa<5,>=3.1.4 in /opt/app-root/lib/python3.9/site-packages (from google-auth<3,>=1.6.3->tensorboard~=2.6->tensorflow==2.7.0->-r requirements.txt (line 4)) (4.9)\n",
      "Requirement already satisfied: requests-oauthlib>=0.7.0 in /opt/app-root/lib/python3.9/site-packages (from google-auth-oauthlib<2,>=0.5->tensorboard~=2.6->tensorflow==2.7.0->-r requirements.txt (line 4)) (2.0.0)\n",
      "Requirement already satisfied: importlib-metadata>=4.4 in /opt/app-root/lib/python3.9/site-packages (from markdown>=2.6.8->tensorboard~=2.6->tensorflow==2.7.0->-r requirements.txt (line 4)) (7.1.0)\n",
      "Requirement already satisfied: charset-normalizer<4,>=2 in /opt/app-root/lib/python3.9/site-packages (from requests<3,>=2.21.0->tensorboard~=2.6->tensorflow==2.7.0->-r requirements.txt (line 4)) (3.3.2)\n",
      "Requirement already satisfied: idna<4,>=2.5 in /opt/app-root/lib/python3.9/site-packages (from requests<3,>=2.21.0->tensorboard~=2.6->tensorflow==2.7.0->-r requirements.txt (line 4)) (3.7)\n",
      "Requirement already satisfied: urllib3<3,>=1.21.1 in /opt/app-root/lib/python3.9/site-packages (from requests<3,>=2.21.0->tensorboard~=2.6->tensorflow==2.7.0->-r requirements.txt (line 4)) (1.26.18)\n",
      "Requirement already satisfied: certifi>=2017.4.17 in /opt/app-root/lib/python3.9/site-packages (from requests<3,>=2.21.0->tensorboard~=2.6->tensorflow==2.7.0->-r requirements.txt (line 4)) (2024.2.2)\n",
      "Requirement already satisfied: zipp>=0.5 in /opt/app-root/lib/python3.9/site-packages (from importlib-metadata>=4.4->markdown>=2.6.8->tensorboard~=2.6->tensorflow==2.7.0->-r requirements.txt (line 4)) (3.18.1)\n",
      "Requirement already satisfied: pyasn1<0.7.0,>=0.4.6 in /opt/app-root/lib/python3.9/site-packages (from pyasn1-modules>=0.2.1->google-auth<3,>=1.6.3->tensorboard~=2.6->tensorflow==2.7.0->-r requirements.txt (line 4)) (0.6.0)\n",
      "Requirement already satisfied: oauthlib>=3.0.0 in /opt/app-root/lib/python3.9/site-packages (from requests-oauthlib>=0.7.0->google-auth-oauthlib<2,>=0.5->tensorboard~=2.6->tensorflow==2.7.0->-r requirements.txt (line 4)) (3.2.2)\n",
      "Downloading werkzeug-2.3.8-py3-none-any.whl (242 kB)\n",
      "\u001b[2K   \u001b[90m━━━━━━━━━━━━━━━━━━━━━━━━━━━━━━━━━━━━━━━━\u001b[0m \u001b[32m242.3/242.3 kB\u001b[0m \u001b[31m16.5 MB/s\u001b[0m eta \u001b[36m0:00:00\u001b[0m\n",
      "\u001b[?25hInstalling collected packages: Werkzeug\n",
      "  Attempting uninstall: Werkzeug\n",
      "    Found existing installation: Werkzeug 3.0.2\n",
      "    Uninstalling Werkzeug-3.0.2:\n",
      "      Successfully uninstalled Werkzeug-3.0.2\n",
      "Successfully installed Werkzeug-2.3.8\n"
     ]
    }
   ],
   "source": [
    "import sys\n",
    "!{sys.executable} -m pip install -r requirements.txt"
   ]
  },
  {
   "cell_type": "markdown",
   "metadata": {},
   "source": [
    "Now that we have everything in place, we can launch the Flask application.\n",
    "\n",
    "(Please ignore the CUDA errors of warning if you don't have any GPU).\n",
    "\n",
    "This cell will be in a **permanent running state**. That's normal as the webserver process will keep running. When you are **finished** with the test you can just select the cell, and click on the **Stop button** (next to Run)."
   ]
  },
  {
   "cell_type": "code",
   "execution_count": 7,
   "metadata": {
    "ExecuteTime": {
     "end_time": "2021-04-13T20:22:18.706055Z",
     "start_time": "2021-04-13T20:12:31.112873Z"
    },
    "tags": []
   },
   "outputs": [
    {
     "name": "stdout",
     "output_type": "stream",
     "text": [
      " * Serving Flask app 'wsgi.py' (lazy loading)\n",
      " * Environment: development\n",
      " * Debug mode: on\n",
      "2024-05-22 11:50:03.862394: W tensorflow/stream_executor/platform/default/dso_loader.cc:64] Could not load dynamic library 'libcudart.so.11.0'; dlerror: libcudart.so.11.0: cannot open shared object file: No such file or directory; LD_LIBRARY_PATH: /usr/local/nvidia/lib:/usr/local/nvidia/lib64\n",
      "2024-05-22 11:50:03.862434: I tensorflow/stream_executor/cuda/cudart_stub.cc:29] Ignore above cudart dlerror if you do not have a GPU set up on your machine.\n",
      "2024-05-22 11:50:05.977197: W tensorflow/stream_executor/platform/default/dso_loader.cc:64] Could not load dynamic library 'libcuda.so.1'; dlerror: libcuda.so.1: cannot open shared object file: No such file or directory; LD_LIBRARY_PATH: /usr/local/nvidia/lib:/usr/local/nvidia/lib64\n",
      "2024-05-22 11:50:05.977238: W tensorflow/stream_executor/cuda/cuda_driver.cc:269] failed call to cuInit: UNKNOWN ERROR (303)\n",
      "2024-05-22 11:50:05.977275: I tensorflow/stream_executor/cuda/cuda_diagnostics.cc:156] kernel driver does not appear to be running on this host (jupyter-nb-thomas-2dbiesmans-0): /proc/driver/nvidia/version does not exist\n",
      "2024-05-22 11:50:05.977517: I tensorflow/core/platform/cpu_feature_guard.cc:151] This TensorFlow binary is optimized with oneAPI Deep Neural Network Library (oneDNN) to use the following CPU instructions in performance-critical operations:  AVX2 AVX512F FMA\n",
      "To enable them in other operations, rebuild TensorFlow with the appropriate compiler flags.\n",
      "\u001b[31m\u001b[1mWARNING: This is a development server. Do not use it in a production deployment. Use a production WSGI server instead.\u001b[0m\n",
      " * Running on http://127.0.0.1:5000\n",
      "\u001b[33mPress CTRL+C to quit\u001b[0m\n",
      " * Restarting with watchdog (inotify)\n",
      "2024-05-22 11:50:06.659738: W tensorflow/stream_executor/platform/default/dso_loader.cc:64] Could not load dynamic library 'libcudart.so.11.0'; dlerror: libcudart.so.11.0: cannot open shared object file: No such file or directory; LD_LIBRARY_PATH: /usr/local/nvidia/lib:/usr/local/nvidia/lib64\n",
      "2024-05-22 11:50:06.659773: I tensorflow/stream_executor/cuda/cudart_stub.cc:29] Ignore above cudart dlerror if you do not have a GPU set up on your machine.\n",
      " * Debugger is active!\n",
      " * Debugger PIN: 541-543-848\n",
      "2024-05-22 11:50:09.089904: W tensorflow/stream_executor/platform/default/dso_loader.cc:64] Could not load dynamic library 'libcuda.so.1'; dlerror: libcuda.so.1: cannot open shared object file: No such file or directory; LD_LIBRARY_PATH: /usr/local/nvidia/lib:/usr/local/nvidia/lib64\n",
      "2024-05-22 11:50:09.089940: W tensorflow/stream_executor/cuda/cuda_driver.cc:269] failed call to cuInit: UNKNOWN ERROR (303)\n",
      "2024-05-22 11:50:09.089969: I tensorflow/stream_executor/cuda/cuda_diagnostics.cc:156] kernel driver does not appear to be running on this host (jupyter-nb-thomas-2dbiesmans-0): /proc/driver/nvidia/version does not exist\n",
      "2024-05-22 11:50:09.090173: I tensorflow/core/platform/cpu_feature_guard.cc:151] This TensorFlow binary is optimized with oneAPI Deep Neural Network Library (oneDNN) to use the following CPU instructions in performance-critical operations:  AVX2 AVX512F FMA\n",
      "To enable them in other operations, rebuild TensorFlow with the appropriate compiler flags.\n",
      "127.0.0.1 - - [22/May/2024 11:50:28] \"GET /status HTTP/1.1\" 200 -\n",
      "127.0.0.1 - - [22/May/2024 11:50:58] \"POST /prediction HTTP/1.1\" 200 -\n",
      "127.0.0.1 - - [22/May/2024 11:51:05] \"POST /prediction HTTP/1.1\" 200 -\n",
      " * Detected change in '/opt/app-root/src/metrobus-repairs-nlp-workshop/.~wsgi.py', reloading\n",
      " * Detected change in '/opt/app-root/src/metrobus-repairs-nlp-workshop/.~wsgi.py', reloading\n",
      " * Detected change in '/opt/app-root/src/metrobus-repairs-nlp-workshop/.~wsgi.py', reloading\n",
      " * Detected change in '/opt/app-root/src/metrobus-repairs-nlp-workshop/.~wsgi.py', reloading\n",
      " * Detected change in '/opt/app-root/src/metrobus-repairs-nlp-workshop/wsgi.py', reloading\n",
      " * Detected change in '/opt/app-root/src/metrobus-repairs-nlp-workshop/wsgi.py', reloading\n",
      " * Detected change in '/opt/app-root/src/metrobus-repairs-nlp-workshop/wsgi.py', reloading\n",
      " * Detected change in '/opt/app-root/src/metrobus-repairs-nlp-workshop/.~wsgi.py', reloading\n",
      " * Restarting with watchdog (inotify)\n",
      "2024-05-22 11:51:32.787344: W tensorflow/stream_executor/platform/default/dso_loader.cc:64] Could not load dynamic library 'libcudart.so.11.0'; dlerror: libcudart.so.11.0: cannot open shared object file: No such file or directory; LD_LIBRARY_PATH: /usr/local/nvidia/lib:/usr/local/nvidia/lib64\n",
      "2024-05-22 11:51:32.787386: I tensorflow/stream_executor/cuda/cudart_stub.cc:29] Ignore above cudart dlerror if you do not have a GPU set up on your machine.\n",
      " * Debugger is active!\n",
      " * Debugger PIN: 541-543-848\n",
      "2024-05-22 11:51:35.189582: W tensorflow/stream_executor/platform/default/dso_loader.cc:64] Could not load dynamic library 'libcuda.so.1'; dlerror: libcuda.so.1: cannot open shared object file: No such file or directory; LD_LIBRARY_PATH: /usr/local/nvidia/lib:/usr/local/nvidia/lib64\n",
      "2024-05-22 11:51:35.189644: W tensorflow/stream_executor/cuda/cuda_driver.cc:269] failed call to cuInit: UNKNOWN ERROR (303)\n",
      "2024-05-22 11:51:35.189693: I tensorflow/stream_executor/cuda/cuda_diagnostics.cc:156] kernel driver does not appear to be running on this host (jupyter-nb-thomas-2dbiesmans-0): /proc/driver/nvidia/version does not exist\n",
      "2024-05-22 11:51:35.189920: I tensorflow/core/platform/cpu_feature_guard.cc:151] This TensorFlow binary is optimized with oneAPI Deep Neural Network Library (oneDNN) to use the following CPU instructions in performance-critical operations:  AVX2 AVX512F FMA\n",
      "To enable them in other operations, rebuild TensorFlow with the appropriate compiler flags.\n",
      " * Detected change in '/opt/app-root/src/metrobus-repairs-nlp-workshop/.~wsgi.py', reloading\n",
      " * Detected change in '/opt/app-root/src/metrobus-repairs-nlp-workshop/.~wsgi.py', reloading\n",
      " * Detected change in '/opt/app-root/src/metrobus-repairs-nlp-workshop/.~wsgi.py', reloading\n",
      " * Detected change in '/opt/app-root/src/metrobus-repairs-nlp-workshop/.~wsgi.py', reloading\n",
      " * Detected change in '/opt/app-root/src/metrobus-repairs-nlp-workshop/wsgi.py', reloading\n",
      " * Detected change in '/opt/app-root/src/metrobus-repairs-nlp-workshop/wsgi.py', reloading\n",
      " * Detected change in '/opt/app-root/src/metrobus-repairs-nlp-workshop/wsgi.py', reloading\n",
      " * Detected change in '/opt/app-root/src/metrobus-repairs-nlp-workshop/.~wsgi.py', reloading\n",
      " * Restarting with watchdog (inotify)\n",
      "2024-05-22 11:52:12.709116: W tensorflow/stream_executor/platform/default/dso_loader.cc:64] Could not load dynamic library 'libcudart.so.11.0'; dlerror: libcudart.so.11.0: cannot open shared object file: No such file or directory; LD_LIBRARY_PATH: /usr/local/nvidia/lib:/usr/local/nvidia/lib64\n",
      "2024-05-22 11:52:12.709159: I tensorflow/stream_executor/cuda/cudart_stub.cc:29] Ignore above cudart dlerror if you do not have a GPU set up on your machine.\n",
      " * Debugger is active!\n",
      " * Debugger PIN: 541-543-848\n",
      "2024-05-22 11:52:15.085294: W tensorflow/stream_executor/platform/default/dso_loader.cc:64] Could not load dynamic library 'libcuda.so.1'; dlerror: libcuda.so.1: cannot open shared object file: No such file or directory; LD_LIBRARY_PATH: /usr/local/nvidia/lib:/usr/local/nvidia/lib64\n",
      "2024-05-22 11:52:15.085328: W tensorflow/stream_executor/cuda/cuda_driver.cc:269] failed call to cuInit: UNKNOWN ERROR (303)\n",
      "2024-05-22 11:52:15.085357: I tensorflow/stream_executor/cuda/cuda_diagnostics.cc:156] kernel driver does not appear to be running on this host (jupyter-nb-thomas-2dbiesmans-0): /proc/driver/nvidia/version does not exist\n",
      "2024-05-22 11:52:15.085561: I tensorflow/core/platform/cpu_feature_guard.cc:151] This TensorFlow binary is optimized with oneAPI Deep Neural Network Library (oneDNN) to use the following CPU instructions in performance-critical operations:  AVX2 AVX512F FMA\n",
      "To enable them in other operations, rebuild TensorFlow with the appropriate compiler flags.\n",
      " * Detected change in '/opt/app-root/src/metrobus-repairs-nlp-workshop/.~wsgi.py', reloading\n",
      " * Detected change in '/opt/app-root/src/metrobus-repairs-nlp-workshop/.~wsgi.py', reloading\n",
      " * Detected change in '/opt/app-root/src/metrobus-repairs-nlp-workshop/.~wsgi.py', reloading\n",
      " * Detected change in '/opt/app-root/src/metrobus-repairs-nlp-workshop/.~wsgi.py', reloading\n",
      " * Detected change in '/opt/app-root/src/metrobus-repairs-nlp-workshop/wsgi.py', reloading\n",
      " * Detected change in '/opt/app-root/src/metrobus-repairs-nlp-workshop/wsgi.py', reloading\n",
      " * Detected change in '/opt/app-root/src/metrobus-repairs-nlp-workshop/wsgi.py', reloading\n",
      " * Detected change in '/opt/app-root/src/metrobus-repairs-nlp-workshop/.~wsgi.py', reloading\n",
      " * Restarting with watchdog (inotify)\n",
      "2024-05-22 11:52:31.096885: W tensorflow/stream_executor/platform/default/dso_loader.cc:64] Could not load dynamic library 'libcudart.so.11.0'; dlerror: libcudart.so.11.0: cannot open shared object file: No such file or directory; LD_LIBRARY_PATH: /usr/local/nvidia/lib:/usr/local/nvidia/lib64\n",
      "2024-05-22 11:52:31.096927: I tensorflow/stream_executor/cuda/cudart_stub.cc:29] Ignore above cudart dlerror if you do not have a GPU set up on your machine.\n",
      " * Debugger is active!\n",
      " * Debugger PIN: 541-543-848\n",
      "2024-05-22 11:52:33.561206: W tensorflow/stream_executor/platform/default/dso_loader.cc:64] Could not load dynamic library 'libcuda.so.1'; dlerror: libcuda.so.1: cannot open shared object file: No such file or directory; LD_LIBRARY_PATH: /usr/local/nvidia/lib:/usr/local/nvidia/lib64\n",
      "2024-05-22 11:52:33.561242: W tensorflow/stream_executor/cuda/cuda_driver.cc:269] failed call to cuInit: UNKNOWN ERROR (303)\n",
      "2024-05-22 11:52:33.561273: I tensorflow/stream_executor/cuda/cuda_diagnostics.cc:156] kernel driver does not appear to be running on this host (jupyter-nb-thomas-2dbiesmans-0): /proc/driver/nvidia/version does not exist\n",
      "2024-05-22 11:52:33.561489: I tensorflow/core/platform/cpu_feature_guard.cc:151] This TensorFlow binary is optimized with oneAPI Deep Neural Network Library (oneDNN) to use the following CPU instructions in performance-critical operations:  AVX2 AVX512F FMA\n",
      "To enable them in other operations, rebuild TensorFlow with the appropriate compiler flags.\n",
      "^C\n"
     ]
    }
   ],
   "source": [
    "!FLASK_ENV=development FLASK_APP=wsgi.py flask run"
   ]
  },
  {
   "cell_type": "markdown",
   "metadata": {},
   "source": [
    "Once the models have been loaded, our server is ready to take requests. Leave this notebook running,and open `04_MBR_test_application.ipynb`."
   ]
  },
  {
   "cell_type": "code",
   "execution_count": null,
   "metadata": {},
   "outputs": [],
   "source": []
  }
 ],
 "metadata": {
  "finalized": {
   "timestamp": 1618345356814,
   "trusted": true
  },
  "kernelspec": {
   "display_name": "Python 3.9",
   "language": "python",
   "name": "python3"
  },
  "language_info": {
   "codemirror_mode": {
    "name": "ipython",
    "version": 3
   },
   "file_extension": ".py",
   "mimetype": "text/x-python",
   "name": "python",
   "nbconvert_exporter": "python",
   "pygments_lexer": "ipython3",
   "version": "3.9.18"
  },
  "toc": {
   "base_numbering": 1,
   "nav_menu": {},
   "number_sections": true,
   "sideBar": true,
   "skip_h1_title": false,
   "title_cell": "Table of Contents",
   "title_sidebar": "Contents",
   "toc_cell": false,
   "toc_position": {},
   "toc_section_display": true,
   "toc_window_display": false
  }
 },
 "nbformat": 4,
 "nbformat_minor": 4
}
